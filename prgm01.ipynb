#1) write a numpy program to create a element vise comparison of 2 given arrays
import numpy as np

a=np.array([1,2,32,3,4,5,6,76,34])
b=np.array([1,2,32,4,4,5,5,65,34])
np.equal(a,b)

array([ True,  True,  True, False,  True,  True, False, False,  True])

c = np.array([34,20,11,4,2,100,24,5])
d = np.array([20,55,13,1,17,90,50,8])
np.greater(c,d)

array([ True, False, False,  True, False,  True, False, False])

c = np.array([34,20,11,4,2,100,24,5])
d = np.array([20,55,13,1,17,90,50,8])
np.less(c,d)

array([False,  True,  True, False,  True, False,  True,  True])

c = np.array([34,20,11,4,2,100,24,5])
d = np.array([14,20,13,4,17,90,24,8])
np.greater_equal(c,d)

array([ True,  True, False,  True, False,  True,  True, False])

c = np.array([34,20,11,4,2,100,24,5])
d = np.array([14,20,13,4,17,90,24,8])
np.less_equal(c,d)

array([False,  True,  True,  True,  True, False,  True,  True])

#2 even integers with in 30 and 50 
a = np.arange(30,50,2)
print(a)

[30 32 34 36 38 40 42 44 46 48]

#3 identity matrix 
x = np.identity(3)
print(x)

[[1. 0. 0.]
 [0. 1. 0.]
 [0. 0. 1.]]

#4 create a vector values from 0 to 20 and change sign of numbers and range from 9 to 15

x = np.arange(21)
x[ (x>=9) & (x<=15)] *=-1
print(x)

[  0   1   2   3   4   5   6   7   8  -9 -10 -11 -12 -13 -14 -15  16  17
  18  19  20]

#5 create create a 5*5 0 matrix with diagonal elements 1 2 3 4 5

x = np.diag([1, 2, 3, 4, 5])
print(x)

[[1 0 0 0 0]
 [0 2 0 0 0]
 [0 0 3 0 0]
 [0 0 0 4 0]
 [0 0 0 0 5]]

#6) to compute sum of all elemnts   #sum of each colums and    #sum of each row of given array 

x = np.array([[1,2,3],[4,5,6],[7,8,9]])
print(np.sum(x))
print(np.sum(x, axis=0))
print(np.sum(x, axis=1))

45
[12 15 18]
[ 6 15 24]

#7) to save an array to txt file and load it 
x = np.arange(12)
np.savetxt('temp.txt', x, fmt="%d") 
result = np.loadtxt('temp.txt')
print(result)

[ 0.  1.  2.  3.  4.  5.  6.  7.  8.  9. 10. 11.]

#8) to check whather 2 arrays are eq or not (elemt wise)
a=np.array([1,2,32,3,4,5,6,76,34])
b=np.array([1,2,32,4,4,5,5,65,34])
np.equal(a,b)

array([ True,  True,  True, False,  True,  True, False, False,  True])

#9) interchange first and last row from a matrix
nums = np.arange(16).reshape(4,4)
print(nums)
# nums[0],nums[-1]=nums[-1],nums[0]
nums[[0,-1]]=nums[[-1,0]]
print(nums)

[[ 0  1  2  3]
 [ 4  5  6  7]
 [ 8  9 10 11]
 [12 13 14 15]]
[[12 13 14 15]
 [ 4  5  6  7]
 [ 8  9 10 11]
 [ 0  1  2  3]]

#10) mul 2 array of same size (elemt) 
a=np.array([10,2,32,3,4,5,6,76,34])
b=np.array([10,2,32,4,4,5,5,65,34])
print(np.multiply(a,b))
