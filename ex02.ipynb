{
 "cells": [
  {
   "cell_type": "code",
   "execution_count": 14,
   "id": "d7add16b-9672-4e11-a77e-dc9cbf18fa8f",
   "metadata": {},
   "outputs": [
    {
     "name": "stdin",
     "output_type": "stream",
     "text": [
      "no of rows: 2\n",
      "no of coloumn: 2\n",
      " 4 5 6 7\n"
     ]
    },
    {
     "name": "stdout",
     "output_type": "stream",
     "text": [
      "Matirix 1 \n",
      " [[4 5]\n",
      " [6 7]]\n"
     ]
    },
    {
     "name": "stdin",
     "output_type": "stream",
     "text": [
      "no of rows: 2\n",
      "no of coloumn: 2\n",
      " 6 5 3 6\n"
     ]
    },
    {
     "name": "stdout",
     "output_type": "stream",
     "text": [
      "Matrix 2 \n",
      " [[6 5]\n",
      " [3 6]]\n",
      "/n dot product /n [[39 50]\n",
      " [57 72]]\n"
     ]
    }
   ],
   "source": [
    "import numpy as np\n",
    "x = int(input(\"no of rows:\"))\n",
    "y = int(input(\"no of coloumn:\"))\n",
    "\n",
    "entries = list(map(int, input().split()))\n",
    "m1 = np.array(entries).reshape(x,y)\n",
    "print(\"Matirix 1 \\n\",m1)\n",
    "\n",
    "\n",
    "a = int(input(\"no of rows:\"))\n",
    "b = int(input(\"no of coloumn:\"))\n",
    "\n",
    "entries = list(map(int, input().split()))\n",
    "m2 = np.array(entries).reshape(a,b)\n",
    "print(\"Matrix 2 \\n\",m2)\n",
    "\n",
    "print(\"\\n dot product \\n\",np.dot(m1,m2))"
   ]
  },
  {
   "cell_type": "code",
   "execution_count": 15,
   "id": "bf042972-56df-4270-92e4-22466b98c14d",
   "metadata": {},
   "outputs": [
    {
     "name": "stdout",
     "output_type": "stream",
     "text": [
      "Transpose of matrix_1: \n",
      " [[5 7]\n",
      " [6 8]] \n",
      " Transpose of matrix_2: \n",
      " [[5 7]\n",
      " [6 8]]\n"
     ]
    }
   ],
   "source": [
    "#2\n",
    "print(\"Transpose of matrix_1: \\n\",matrix_1.transpose(), \"\\n Transpose of matrix_2: \\n\",matrix_2.transpose())"
   ]
  },
  {
   "cell_type": "code",
   "execution_count": 16,
   "id": "49a31ac4-6c9e-4122-9ed8-976b8c8f9328",
   "metadata": {},
   "outputs": [
    {
     "name": "stdout",
     "output_type": "stream",
     "text": [
      "Trace of matrix_1: \n",
      " 13 \n",
      " Trace of matrix_2: \n",
      " 13\n"
     ]
    }
   ],
   "source": [
    "\n",
    "\n",
    " #trace\n",
    "    \n",
    "print(\"Trace of matrix_1: \\n\",np.trace(matrix_1),\"\\n Trace of matrix_2: \\n\",np.trace(matrix_2))    \n",
    "\n"
   ]
  },
  {
   "cell_type": "code",
   "execution_count": 17,
   "id": "63ea8d98-21a9-4483-96bb-647826818b7a",
   "metadata": {},
   "outputs": [
    {
     "name": "stdout",
     "output_type": "stream",
     "text": [
      "The rank of matrix_1 : 2 \n",
      " The rank of matrix_2 : 2\n"
     ]
    }
   ],
   "source": [
    "#rank\n",
    "\n",
    "print(\"The rank of matrix_1 :\",np.linalg.matrix_rank(matrix_1),\"\\n The rank of matrix_2 :\",np.linalg.matrix_rank(matrix_2))"
   ]
  },
  {
   "cell_type": "code",
   "execution_count": 18,
   "id": "3d494c49-08a6-42ca-a8a6-b176c3617559",
   "metadata": {},
   "outputs": [
    {
     "name": "stdout",
     "output_type": "stream",
     "text": [
      "The determinent of matrix_1 : -1 \n",
      " The determinent of matrix_2 : -1\n"
     ]
    }
   ],
   "source": [
    "\n",
    "\n",
    "#determinent\n",
    "\n",
    "print(\"The determinent of matrix_1 :\",int(np.linalg.det(matrix_1)),\"\\n The determinent of matrix_2 :\",int(np.linalg.det(matrix_2)))\n",
    "\n"
   ]
  },
  {
   "cell_type": "code",
   "execution_count": 20,
   "id": "8b738bd1-32fb-414a-9a8c-6d1ed60c59b0",
   "metadata": {},
   "outputs": [
    {
     "name": "stdout",
     "output_type": "stream",
     "text": [
      "The inverse of matrix_1 : \n",
      " [[-4.   3. ]\n",
      " [ 3.5 -2.5]] \n",
      " The inverse of matrix_2 : \n",
      " [[-4.   3. ]\n",
      " [ 3.5 -2.5]]\n",
      "The eigen values of matrix_1 : \n",
      " [-0.15206735 13.15206735]\n",
      " The eigen vectors of matrix_1:\n",
      " [[-0.75868086 -0.59276441]\n",
      " [ 0.65146248 -0.80537591]]\n",
      "The eigen values of matrix_2 : \n",
      " [-0.15206735 13.15206735]\n",
      " The eigen vectors of matrix_2:\n",
      " [[-0.75868086 -0.59276441]\n",
      " [ 0.65146248 -0.80537591]]\n"
     ]
    }
   ],
   "source": [
    "#Inverse\n",
    "\n",
    "print(\"The inverse of matrix_1 : \\n\",np.linalg.inv(matrix_1),\"\\n The inverse of matrix_2 : \\n\",np.linalg.inv(matrix_2))\n"
   ]
  },
  {
   "cell_type": "code",
   "execution_count": 21,
   "id": "fdf807bb-4097-45e2-aa7f-662eaaba7efb",
   "metadata": {},
   "outputs": [
    {
     "name": "stdout",
     "output_type": "stream",
     "text": [
      "The eigen values of matrix_1 : \n",
      " [-0.15206735 13.15206735]\n",
      " The eigen vectors of matrix_1:\n",
      " [[-0.75868086 -0.59276441]\n",
      " [ 0.65146248 -0.80537591]]\n",
      "The eigen values of matrix_2 : \n",
      " [-0.15206735 13.15206735]\n",
      " The eigen vectors of matrix_2:\n",
      " [[-0.75868086 -0.59276441]\n",
      " [ 0.65146248 -0.80537591]]\n"
     ]
    }
   ],
   "source": [
    "#Eigen values and eigen vectors\n",
    "\n",
    "w1, v1 = np.linalg.eig(matrix_1)\n",
    "\n",
    "\n",
    "print(\"The eigen values of matrix_1 : \\n\",w1)\n",
    "print(\" The eigen vectors of matrix_1:\\n\",v1)\n",
    "\n",
    "w2 , v2 = np.linalg.eig(matrix_2)\n",
    "\n",
    "print(\"The eigen values of matrix_2 : \\n\",w2)\n",
    "print(\" The eigen vectors of matrix_2:\\n\",v2)"
   ]
  },
  {
   "cell_type": "code",
   "execution_count": null,
   "id": "cbb6b76c-6d31-45d6-900c-31083a66e7e1",
   "metadata": {},
   "outputs": [],
   "source": []
  }
 ],
 "metadata": {
  "kernelspec": {
   "display_name": "Python 3 (ipykernel)",
   "language": "python",
   "name": "python3"
  },
  "language_info": {
   "codemirror_mode": {
    "name": "ipython",
    "version": 3
   },
   "file_extension": ".py",
   "mimetype": "text/x-python",
   "name": "python",
   "nbconvert_exporter": "python",
   "pygments_lexer": "ipython3",
   "version": "3.10.4"
  }
 },
 "nbformat": 4,
 "nbformat_minor": 5
}
